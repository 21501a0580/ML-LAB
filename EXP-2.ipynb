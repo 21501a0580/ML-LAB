{
 "cells": [
  {
   "cell_type": "code",
   "execution_count": 76,
   "id": "d9e722cd",
   "metadata": {},
   "outputs": [],
   "source": [
    "import numpy as np\n",
    "import matplotlib.pyplot as plt\n",
    "import pandas as pd"
   ]
  },
  {
   "cell_type": "code",
   "execution_count": 77,
   "id": "2ba160b7",
   "metadata": {},
   "outputs": [],
   "source": [
    "dataset=pd.read_csv('Data.csv')"
   ]
  },
  {
   "cell_type": "code",
   "execution_count": 84,
   "id": "a5be9414",
   "metadata": {},
   "outputs": [],
   "source": [
    "x = dataset.iloc[:, 0:4].values\n",
    "y = dataset.iloc[:, 4].values"
   ]
  },
  {
   "cell_type": "code",
   "execution_count": 85,
   "id": "9f95cfd5",
   "metadata": {},
   "outputs": [
    {
     "name": "stdout",
     "output_type": "stream",
     "text": [
      "[['Sumba Region - Indonesia' -9.18 nan 10.0]\n",
      " ['Banda Sea' -6.55 129.64 10.0]\n",
      " ['Java - Indonesia' -7.01 106.63 121.0]\n",
      " ...\n",
      " ['Flores Sea' -7.83 121.07 92200.0]\n",
      " ['Northern Molucca Sea' 3.0 127.16 92201.0]\n",
      " ['Sumbawa Region - Indonesia' -8.87 118.95 92202.0]]\n"
     ]
    }
   ],
   "source": [
    "print(x)"
   ]
  },
  {
   "cell_type": "code",
   "execution_count": 88,
   "id": "e7685be3",
   "metadata": {},
   "outputs": [
    {
     "name": "stdout",
     "output_type": "stream",
     "text": [
      "[4.9 4.6 3.7 ... 3.8 4.1 2.4]\n"
     ]
    }
   ],
   "source": [
    "print(y)"
   ]
  },
  {
   "cell_type": "code",
   "execution_count": 91,
   "id": "5671aaee",
   "metadata": {},
   "outputs": [],
   "source": [
    "from sklearn.impute import SimpleImputer\n",
    "imputer = SimpleImputer(missing_values=np.nan,strategy='mean')\n",
    "imputer.fit(x[:,1:5])\n",
    "x[:, 1:5] = imputer.transform(x[:,1:5])"
   ]
  },
  {
   "cell_type": "code",
   "execution_count": 49,
   "id": "fb5052ee",
   "metadata": {},
   "outputs": [
    {
     "name": "stdout",
     "output_type": "stream",
     "text": [
      "[[-9.18000000e+00  1.19159384e+02  1.00000000e+01  4.90000000e+00]\n",
      " [-6.55000000e+00  1.29640000e+02  1.00000000e+01  4.60000000e+00]\n",
      " [-7.01000000e+00  1.06630000e+02  1.21000000e+02  3.70000000e+00]\n",
      " ...\n",
      " [-7.83000000e+00  1.21070000e+02  9.22000000e+04  3.80000000e+00]\n",
      " [ 3.00000000e+00  1.27160000e+02  9.22010000e+04  4.10000000e+00]\n",
      " [-8.87000000e+00  1.18950000e+02  9.22020000e+04  2.40000000e+00]]\n"
     ]
    }
   ],
   "source": [
    "print(x)"
   ]
  },
  {
   "cell_type": "code",
   "execution_count": 61,
   "id": "3afdacf0",
   "metadata": {},
   "outputs": [],
   "source": [
    "from sklearn.model_selection import train_test_split\n",
    "x_train,x_test,y_train,y_test=train_test_split(x,y,test_size=0.2,random_state=2)"
   ]
  },
  {
   "cell_type": "code",
   "execution_count": 52,
   "id": "82d268eb",
   "metadata": {},
   "outputs": [
    {
     "name": "stdout",
     "output_type": "stream",
     "text": [
      "[[-8.3700e+00  1.1622e+02  4.2559e+04  3.1000e+00]\n",
      " [-9.8000e+00  1.1287e+02  3.6245e+04  4.0000e+00]\n",
      " [ 1.8600e+00  1.2650e+02  8.6510e+04  3.2000e+00]\n",
      " ...\n",
      " [-1.0150e+01  1.1926e+02  4.9373e+04  3.0000e+00]\n",
      " [-9.1100e+00  1.0681e+02  4.5080e+03  3.8000e+00]\n",
      " [-6.0400e+00  1.2984e+02  7.7024e+04  4.1000e+00]]\n"
     ]
    }
   ],
   "source": [
    "print(x_train)"
   ]
  },
  {
   "cell_type": "code",
   "execution_count": 54,
   "id": "7cdfc6f8",
   "metadata": {},
   "outputs": [
    {
     "name": "stdout",
     "output_type": "stream",
     "text": [
      "[[-2.9500e+00  1.1979e+02  4.6284e+04  2.7000e+00]\n",
      " [-9.4400e+00  1.2260e+02  5.7118e+04  3.6000e+00]\n",
      " [-8.7400e+00  1.1618e+02  1.9450e+04  2.0000e+00]\n",
      " ...\n",
      " [-7.8200e+00  1.2319e+02  5.6774e+04  3.1000e+00]\n",
      " [-8.9700e+00  1.2066e+02  7.8823e+04  2.7000e+00]\n",
      " [-1.2400e+00  1.2035e+02  3.1639e+04  3.6000e+00]]\n"
     ]
    }
   ],
   "source": [
    "print(x_test)"
   ]
  },
  {
   "cell_type": "code",
   "execution_count": 55,
   "id": "0c0654fd",
   "metadata": {},
   "outputs": [
    {
     "name": "stdout",
     "output_type": "stream",
     "text": [
      "[3.1 4.  3.2 ... 3.  3.8 4.1]\n"
     ]
    }
   ],
   "source": [
    "print(y_train)"
   ]
  },
  {
   "cell_type": "code",
   "execution_count": 56,
   "id": "3ecaf5da",
   "metadata": {},
   "outputs": [
    {
     "name": "stdout",
     "output_type": "stream",
     "text": [
      "[2.7 3.6 2.  ... 3.1 2.7 3.6]\n"
     ]
    }
   ],
   "source": [
    "print(y_test)"
   ]
  },
  {
   "cell_type": "code",
   "execution_count": null,
   "id": "2eda5874",
   "metadata": {},
   "outputs": [],
   "source": [
    "from sklearn.preprocessing inport StandardScaler as se\n",
    "sc=se()\n",
    "x_train[:,]"
   ]
  }
 ],
 "metadata": {
  "kernelspec": {
   "display_name": "Python 3 (ipykernel)",
   "language": "python",
   "name": "python3"
  },
  "language_info": {
   "codemirror_mode": {
    "name": "ipython",
    "version": 3
   },
   "file_extension": ".py",
   "mimetype": "text/x-python",
   "name": "python",
   "nbconvert_exporter": "python",
   "pygments_lexer": "ipython3",
   "version": "3.11.5"
  }
 },
 "nbformat": 4,
 "nbformat_minor": 5
}
